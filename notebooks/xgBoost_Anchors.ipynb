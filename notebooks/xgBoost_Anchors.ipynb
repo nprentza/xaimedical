{
  "nbformat": 4,
  "nbformat_minor": 0,
  "metadata": {
    "colab": {
      "provenance": [],
      "include_colab_link": true
    },
    "kernelspec": {
      "name": "python3",
      "display_name": "Python 3"
    },
    "language_info": {
      "name": "python"
    }
  },
  "cells": [
    {
      "cell_type": "markdown",
      "metadata": {
        "id": "view-in-github",
        "colab_type": "text"
      },
      "source": [
        "<a href=\"https://colab.research.google.com/github/nprentza/xaimedical/blob/main/notebooks/xgBoost_Anchors.ipynb\" target=\"_parent\"><img src=\"https://colab.research.google.com/assets/colab-badge.svg\" alt=\"Open In Colab\"/></a>"
      ]
    },
    {
      "cell_type": "code",
      "source": [
        "import pandas as pd\n",
        "\n",
        "url = 'https://raw.githubusercontent.com/nprentza/xaimedical/main/datasets/diabetes_earlystage.csv'\n",
        "df = pd.read_csv(url)"
      ],
      "metadata": {
        "id": "LGTTXwwSsRX6"
      },
      "execution_count": 1,
      "outputs": []
    },
    {
      "cell_type": "markdown",
      "source": [
        "Separate features/predictors (x) and target variable (y)."
      ],
      "metadata": {
        "id": "VmhwB0g8sanR"
      }
    },
    {
      "cell_type": "code",
      "source": [
        "x=df.drop([\"patientclass\"], axis=1)\n",
        "y=df.patientclass"
      ],
      "metadata": {
        "id": "40W5sNhtsiAS"
      },
      "execution_count": 2,
      "outputs": []
    },
    {
      "cell_type": "markdown",
      "source": [
        "Split data into train and test."
      ],
      "metadata": {
        "id": "acoEO-i6smY2"
      }
    },
    {
      "cell_type": "code",
      "source": [
        "from sklearn.model_selection import train_test_split\n",
        "\n",
        "X_train, X_test, y_train, y_test = train_test_split(\n",
        "    x, y, test_size=0.2, random_state=42)"
      ],
      "metadata": {
        "id": "1b6MEuKKsc-T"
      },
      "execution_count": 3,
      "outputs": []
    },
    {
      "cell_type": "markdown",
      "source": [
        "Train a XGBoost model and predict the response for the test set (x_test)."
      ],
      "metadata": {
        "id": "PiHHD5xOs51f"
      }
    },
    {
      "cell_type": "code",
      "source": [
        "import xgboost as xgb\n",
        "\n",
        "from sklearn.metrics import accuracy_score\n",
        "\n",
        "xgc = xgb.XGBClassifier(n_estimators=500, max_depth=5, random_state=42) # Creating a XGB Classifier\n",
        "xgc.fit(X_train, y_train)\n",
        "\n",
        "predictions = xgc.predict(X_test)\n",
        "\n",
        "accuracy_score(y_test, predictions)"
      ],
      "metadata": {
        "id": "zUCVOj3xLxQu",
        "colab": {
          "base_uri": "https://localhost:8080/"
        },
        "outputId": "47a06659-9288-4e05-c889-2c713c483928"
      },
      "execution_count": 5,
      "outputs": [
        {
          "output_type": "execute_result",
          "data": {
            "text/plain": [
              "0.9615384615384616"
            ]
          },
          "metadata": {},
          "execution_count": 5
        }
      ]
    },
    {
      "cell_type": "markdown",
      "source": [
        "# Explain predictions with ANCHORS"
      ],
      "metadata": {
        "id": "sM8NXXWQJgfS"
      }
    },
    {
      "cell_type": "code",
      "source": [
        "#!pip install anchor-exp\n",
        "from anchor import utils\n",
        "from anchor import anchor_tabular"
      ],
      "metadata": {
        "id": "EBoJGa4FJnpR"
      },
      "execution_count": 7,
      "outputs": []
    },
    {
      "cell_type": "code",
      "source": [
        "features=[\"age\",\"gender\",\"polyuria\",\"polydipsia\",\"sudden_weight_loss\",\"weakness\",\"polyphagia\",\"genital_thrush\",\"visual_blurring\",\"Itching\",\"Irritability\",\"delayed_healing\",\"partial_paresis\",\"muscle_stiffness\",\"alopecia\",\"obesity\"]\n",
        "target=\"patientclass\"\n",
        "\n",
        "explainer = anchor_tabular.AnchorTabularExplainer(['negative','positive'],features,X_train.values)"
      ],
      "metadata": {
        "id": "aqUr6XT8Asp6"
      },
      "execution_count": 8,
      "outputs": []
    },
    {
      "cell_type": "code",
      "source": [
        "import numpy as np\n",
        "idx = 0\n",
        "np.random.seed(1)\n",
        "prediction_index = xgc.predict(X_test.iloc[idx].values.reshape(1, -1))[0]\n",
        "# Check if the prediction index is within the bounds of class_names\n",
        "if 0 <= prediction_index < len(explainer.class_names):\n",
        "    print('Prediction: ', explainer.class_names[prediction_index])\n",
        "    exp = explainer.explain_instance(X_test.iloc[idx].values, xgc.predict, threshold=0.95)\n",
        "else:\n",
        "    print(\"Prediction index out of bounds. Check your model and class names.\")"
      ],
      "metadata": {
        "colab": {
          "base_uri": "https://localhost:8080/"
        },
        "id": "NdlVakVEF00z",
        "outputId": "a7462af7-66f6-4b98-fdb3-99ae421a6ab1"
      },
      "execution_count": 9,
      "outputs": [
        {
          "output_type": "stream",
          "name": "stdout",
          "text": [
            "Prediction:  negative\n"
          ]
        }
      ]
    },
    {
      "cell_type": "code",
      "source": [
        "print('Anchor: %s' % (' AND '.join(exp.names())))\n",
        "print('Precision: %.2f' % exp.precision())\n",
        "print('Coverage: %.2f' % exp.coverage())"
      ],
      "metadata": {
        "id": "_8l6YXAPG8wI",
        "outputId": "6e09e6ae-c485-4557-eb89-857b598b2596",
        "colab": {
          "base_uri": "https://localhost:8080/"
        }
      },
      "execution_count": 10,
      "outputs": [
        {
          "output_type": "stream",
          "name": "stdout",
          "text": [
            "Anchor: gender <= 1.00 AND polydipsia <= 0.00 AND sudden_weight_loss <= 0.00 AND Irritability <= 0.00 AND polyphagia > 0.00\n",
            "Precision: 0.96\n",
            "Coverage: 0.08\n"
          ]
        }
      ]
    }
  ]
}